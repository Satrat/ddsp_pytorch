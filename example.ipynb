{
 "cells": [
  {
   "cell_type": "code",
   "execution_count": 6,
   "metadata": {},
   "outputs": [],
   "source": [
    "import os\n",
    "import pretty_midi\n",
    "import numpy as np\n",
    "import test\n",
    "import librosa\n",
    "import math"
   ]
  },
  {
   "cell_type": "code",
   "execution_count": 7,
   "metadata": {},
   "outputs": [],
   "source": [
    "PATH_TO_AUDIO = \"../CSD/english/wav/\"\n",
    "sampling_rate = 16000\n",
    "block_size = 128"
   ]
  },
  {
   "cell_type": "code",
   "execution_count": 12,
   "metadata": {},
   "outputs": [
    {
     "name": "stdout",
     "output_type": "stream",
     "text": [
      "0.008 7\n"
     ]
    }
   ],
   "source": [
    "tpb = block_size * 1.0 / sampling_rate\n",
    "cb = math.ceil(.05 / tpb)\n",
    "print(tpb, cb)"
   ]
  },
  {
   "cell_type": "code",
   "execution_count": 19,
   "metadata": {},
   "outputs": [],
   "source": [
    "PHONEMES = ['sil', 'b','d','f','g','h','j','k','l','m','n','p','r','s','t','v','w','z','zh','ch','sh','th','dh','ng','y','ae','ei','e','ii','i','ai','a','ou','u','ao','uu','oi','au','eo','er','oo']\n",
    "PHONEME2ID={}\n",
    "for i,p in enumerate(PHONEMES):\n",
    "    PHONEME2ID[p] = i"
   ]
  },
  {
   "cell_type": "code",
   "execution_count": 35,
   "metadata": {},
   "outputs": [],
   "source": [
    "def parse_single_file(key, wav_path):\n",
    "    midi_path = wav_path.replace('wav', 'mid')\n",
    "    phoneme_path = wav_path.replace('wav', 'txt')\n",
    "    \n",
    "    y,sr = librosa.load(wav_path)\n",
    "    y_resampled = librosa.resample(y,orig_sr=sr,target_sr=sampling_rate)\n",
    "\n",
    "    midi = test.load_midi(midi_path)\n",
    "    starts = [m.start for m in midi]\n",
    "    ends = [m.end for m in midi]\n",
    "    pitches = [int(m.pitch) for m in midi]\n",
    "    syllables = test.load_text(phoneme_path)\n",
    "\n",
    "    assert(len(midi) == len(syllables))\n",
    "    \n",
    "    label_length = math.ceil(y.shape[0] * 1.0 / block_size)\n",
    "    phoneme_labels = np.zeros(label_length)\n",
    "    for i in range(len(midi)):\n",
    "        start_frame = math.floor(midi[i].start * float(sampling_rate) / float(block_size))\n",
    "        end_frame = math.ceil(midi[i].end * float(sampling_rate) / float(block_size))\n",
    "        \n",
    "        phonemes = syllables[i].split(\"_\")\n",
    "        N = len(phonemes)\n",
    "        duration = (end_frame - start_frame)\n",
    "        durations = np.zeros(N, dtype='int32')\n",
    "        for i, p in enumerate(phonemes):\n",
    "            if(PHONEME2ID[p] < PHONEME2ID['ae']):\n",
    "                durations[i] = cb\n",
    "        total_const_time = np.sum(durations)\n",
    "        n_const = total_const_time / cb\n",
    "        n_vowel = N - n_const\n",
    "        N_per_vowel = (duration - total_const_time) / n_vowel\n",
    "        for i, p in enumerate(phonemes):\n",
    "            if(PHONEME2ID[p] >= PHONEME2ID['ae']):\n",
    "                durations[i] = N_per_vowel\n",
    "        idx = start_frame\n",
    "        for i, p in enumerate(phonemes):\n",
    "            phoneme_labels[idx:(idx + durations[i])] = PHONEME2ID[p]\n",
    "            idx += durations[i]\n",
    "        \n",
    "    return phoneme_labels\n",
    "    "
   ]
  },
  {
   "cell_type": "code",
   "execution_count": 36,
   "metadata": {},
   "outputs": [
    {
     "name": "stdout",
     "output_type": "stream",
     "text": [
      "en001a\n",
      "en001b\n",
      "en002a\n",
      "en002b\n",
      "en003a\n",
      "en003b\n",
      "en004a\n",
      "en004b\n",
      "en005a\n",
      "en005b\n",
      "en006a\n",
      "en006b\n",
      "en007a\n",
      "en007b\n",
      "en008a\n",
      "en008b\n",
      "en009a\n",
      "en009b\n",
      "en010a\n",
      "en010b\n",
      "en011a\n",
      "en011b\n",
      "en012a\n",
      "en012b\n",
      "en013a\n",
      "en013b\n",
      "en014a\n",
      "en014b\n",
      "en015a\n",
      "en015b\n",
      "en016a\n",
      "en016b\n",
      "en017a\n",
      "en017b\n",
      "en018a\n",
      "en018b\n",
      "en019a\n",
      "en019b\n",
      "en020a\n",
      "en020b\n",
      "en021a\n",
      "en021b\n",
      "en022a\n",
      "en022b\n",
      "en023a\n",
      "en023b\n",
      "en024a\n",
      "en024b\n",
      "en025a\n",
      "en025b\n",
      "en026a\n",
      "en026b\n",
      "en027a\n",
      "en027b\n",
      "en028a\n",
      "en028b\n",
      "en029a\n",
      "en029b\n",
      "en030a\n",
      "en030b\n",
      "en031a\n",
      "en031b\n",
      "en032a\n",
      "en032b\n",
      "en033a\n",
      "en033b\n",
      "en034a\n",
      "en034b\n",
      "en035a\n",
      "en035b\n",
      "en036a\n",
      "en036b\n",
      "en037a\n",
      "en037b\n",
      "en038a\n",
      "en038b\n",
      "en039a\n",
      "en039b\n",
      "en040a\n",
      "en040b\n",
      "en041a\n",
      "en041b\n",
      "en042a\n",
      "en042b\n",
      "en043a\n",
      "en043b\n",
      "en044a\n",
      "en044b\n",
      "en045a\n",
      "en045b\n",
      "en046a\n",
      "en046b\n",
      "en047a\n",
      "en047b\n",
      "en048a\n",
      "en048b\n",
      "en049a\n",
      "en049b\n",
      "en050a\n",
      "en050b\n"
     ]
    }
   ],
   "source": [
    "phoneme_label_dict = {}\n",
    "for root, dirs, files in os.walk(PATH_TO_AUDIO):\n",
    "    for name in files:\n",
    "        if name.endswith('wav'):\n",
    "            key = name.replace('.wav','')\n",
    "            print(key)\n",
    "            wav_path = os.path.join(root, name)\n",
    "            phonemes = parse_single_file(key, wav_path)\n",
    "            phoneme_label_dict[key] = phonemes"
   ]
  },
  {
   "cell_type": "code",
   "execution_count": 17,
   "metadata": {},
   "outputs": [
    {
     "data": {
      "text/plain": [
       "25"
      ]
     },
     "execution_count": 17,
     "metadata": {},
     "output_type": "execute_result"
    }
   ],
   "source": [
    "PHONEME2ID['ae']"
   ]
  },
  {
   "cell_type": "code",
   "execution_count": null,
   "metadata": {},
   "outputs": [],
   "source": []
  }
 ],
 "metadata": {
  "kernelspec": {
   "display_name": "Python 3 (ipykernel)",
   "language": "python",
   "name": "python3"
  },
  "language_info": {
   "codemirror_mode": {
    "name": "ipython",
    "version": 3
   },
   "file_extension": ".py",
   "mimetype": "text/x-python",
   "name": "python",
   "nbconvert_exporter": "python",
   "pygments_lexer": "ipython3",
   "version": "3.7.0"
  }
 },
 "nbformat": 4,
 "nbformat_minor": 4
}
